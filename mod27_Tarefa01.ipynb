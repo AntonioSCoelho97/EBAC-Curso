{
 "cells": [
  {
   "cell_type": "markdown",
   "metadata": {},
   "source": [
    "![Cabec%CC%A7alho_notebook.png](cabecalho_notebook.png)"
   ]
  },
  {
   "cell_type": "markdown",
   "metadata": {},
   "source": [
    "# PCA - Tarefa 01: *HAR* com PCA\n",
    "\n",
    "Vamos trabalhar com a base da demonstração feita em aula, mas vamos explorar um pouco melhor como é o desempenho da árvore variando o número de componentes principais."
   ]
  },
  {
   "cell_type": "code",
   "execution_count": 1,
   "metadata": {},
   "outputs": [],
   "source": [
    "import pandas as pd\n",
    "\n",
    "from sklearn.tree import DecisionTreeClassifier\n",
    "\n",
    "from sklearn.decomposition import PCA\n",
    "from sklearn.metrics import accuracy_score\n",
    "from sklearn.model_selection import cross_val_score\n",
    "from sklearn.model_selection import GridSearchCV\n",
    "\n",
    "filename_features = \"Dados/UCI HAR Dataset/features.txt\"\n",
    "filename_labels = \"Dados/UCI HAR Dataset/activity_labels.txt\"\n",
    "\n",
    "filename_subtrain = \"Dados/UCI HAR Dataset/train/subject_train.txt\"\n",
    "filename_xtrain = \"Dados/UCI HAR Dataset/train/X_train.txt\"\n",
    "filename_ytrain = \"Dados/UCI HAR Dataset/train/y_train.txt\"\n",
    "\n",
    "filename_subtest = \"Dados/UCI HAR Dataset/test/subject_test.txt\"\n",
    "ffilename_xtest = \"Dados/UCI HAR Dataset/test/X_test.txt\"\n",
    "filename_ytest = \"Dados/UCI HAR Dataset/test/y_test.txt\"\n",
    "\n",
    "features = pd.read_csv(filename_features, header=None, usecols=[1], names = ['colunas'], sep= ' ')\n",
    "labels = pd.read_csv(filename_labels, delim_whitespace=True, header=None, names=['cod_label', 'label'])\n",
    "\n",
    "subject_train = pd.read_csv(filename_subtrain, header=None, names=['subject_id'])\n",
    "X_train = pd.read_csv(filename_xtrain, delim_whitespace = True, header=None)\n",
    "X_train.columns = features['colunas'].tolist()\n",
    "y_train = pd.read_csv(filename_ytrain, header=None, names=['cod_label'])\n",
    "\n",
    "subject_test = pd.read_csv(filename_subtest, header=None, names=['subject_id'])\n",
    "X_test = pd.read_csv(ffilename_xtest, delim_whitespace=True, header=None)\n",
    "X_test.columns = features['colunas'].tolist()\n",
    "y_test = pd.read_csv(filename_ytest, header=None, names=['cod_label'])"
   ]
  },
  {
   "cell_type": "markdown",
   "metadata": {},
   "source": [
    "## Árvore de decisão\n",
    "\n",
    "Rode uma árvore de decisão com todas as variáveis, utilizando o ```ccp_alpha=0.001```. Avalie a acurácia nas bases de treinamento e teste. Avalie o tempo de processamento."
   ]
  },
  {
   "cell_type": "code",
   "execution_count": 2,
   "metadata": {},
   "outputs": [
    {
     "name": "stdout",
     "output_type": "stream",
     "text": [
      "R_quadrado na base de treino: 97.58\n",
      "R_quadrado na base de teste: 87.92\n",
      "CPU times: total: 6.81 s\n",
      "Wall time: 6.95 s\n"
     ]
    }
   ],
   "source": [
    "%%time\n",
    "clf = DecisionTreeClassifier(random_state=2360873, ccp_alpha=0.001).fit(X_train, y_train)\n",
    "print(f\"R_quadrado na base de treino: {clf.score(X_train, y_train)*100:.2f}\")\n",
    "print(f\"R_quadrado na base de teste: {clf.score(X_test, y_test)*100:.2f}\")"
   ]
  },
  {
   "cell_type": "markdown",
   "metadata": {},
   "source": [
    "## Árvore com PCA\n",
    "\n",
    "Faça uma análise de componemtes principais das variáveis originais. Utilize apenas uma componente. Faça uma árvore de decisão com esta componente como variável explicativa.\n",
    "\n",
    "- Avalie a acurácia nas bases de treinamento e teste\n",
    "- Avalie o tempo de processamento"
   ]
  },
  {
   "cell_type": "code",
   "execution_count": 3,
   "metadata": {},
   "outputs": [
    {
     "name": "stdout",
     "output_type": "stream",
     "text": [
      "R_quadrado na base de treino: 49.97\n",
      "R_quadrado na base de teste: 45.71\n",
      "CPU times: total: 1.28 s\n",
      "Wall time: 478 ms\n"
     ]
    }
   ],
   "source": [
    "%%time\n",
    "prcomp = PCA(n_components=1).fit(X_train)\n",
    "\n",
    "pc_treino = prcomp.transform(X_train)\n",
    "pc_teste  = prcomp.transform(X_test)\n",
    "\n",
    "clf = DecisionTreeClassifier(random_state=2360873, ccp_alpha=0.001).fit(pc_treino, y_train)\n",
    "print(f\"R_quadrado na base de treino: {clf.score(pc_treino, y_train)*100:.2f}\")\n",
    "print(f\"R_quadrado na base de teste: {clf.score(pc_teste, y_test)*100:.2f}\")"
   ]
  },
  {
   "cell_type": "markdown",
   "metadata": {},
   "source": [
    "#### Avalie a acurácia nas bases de treinamento e teste\n",
    "- Houve uma queda significativa na acurácia, caindo tanto em treinamento quanto em teste quase 50%."
   ]
  },
  {
   "cell_type": "markdown",
   "metadata": {},
   "source": [
    "#### Avalie o tempo de processamento\n",
    "- Houve melhora significativa com relação ao tempo de processamento: **CPU times** representando **18,80%** e **Wall time** representando **6,88%**."
   ]
  },
  {
   "cell_type": "markdown",
   "metadata": {},
   "source": [
    "## Testando o número de componentes\n",
    "\n",
    "Com base no código acima, teste a árvore de classificação com pelo menos as seguintes possibilidades de quantidades de componentes: ```[1, 2, 5, 10, 50]```. Avalie para cada uma delas:\n",
    "\n",
    "- Acurácia nas bases de treino e teste\n",
    "- Tempo de processamento\n"
   ]
  },
  {
   "cell_type": "code",
   "execution_count": 4,
   "metadata": {},
   "outputs": [],
   "source": [
    "# Criando uma função para as 'n' quantidades de componentes\n",
    "def clf_n(componente):\n",
    "    prcomp = PCA(n_components= componente).fit(X_train)\n",
    "\n",
    "    pc_treino = prcomp.transform(X_train)\n",
    "    pc_teste  = prcomp.transform(X_test)\n",
    "\n",
    "    clf = DecisionTreeClassifier(random_state=2360873, ccp_alpha=0.001).fit(pc_treino, y_train)\n",
    "    print(f\"Número de componentes: {componente}\")\n",
    "    print(f\"R_quadrado na base de treino: {clf.score(pc_treino, y_train)*100:.2f}\")\n",
    "    print(f\"R_quadrado na base de teste: {clf.score(pc_teste, y_test)*100:.2f}\")"
   ]
  },
  {
   "cell_type": "code",
   "execution_count": 5,
   "metadata": {},
   "outputs": [
    {
     "name": "stdout",
     "output_type": "stream",
     "text": [
      "Número de componentes: 1\n",
      "R_quadrado na base de treino: 49.97\n",
      "R_quadrado na base de teste: 45.71\n",
      "CPU times: total: 1.53 s\n",
      "Wall time: 453 ms\n"
     ]
    }
   ],
   "source": [
    "%%time\n",
    "clf_n(1)"
   ]
  },
  {
   "cell_type": "code",
   "execution_count": 6,
   "metadata": {},
   "outputs": [
    {
     "name": "stdout",
     "output_type": "stream",
     "text": [
      "Número de componentes: 2\n",
      "R_quadrado na base de treino: 61.28\n",
      "R_quadrado na base de teste: 58.47\n",
      "CPU times: total: 1.12 s\n",
      "Wall time: 352 ms\n"
     ]
    }
   ],
   "source": [
    "%%time\n",
    "clf_n(2)"
   ]
  },
  {
   "cell_type": "code",
   "execution_count": 7,
   "metadata": {},
   "outputs": [
    {
     "name": "stdout",
     "output_type": "stream",
     "text": [
      "Número de componentes: 5\n",
      "R_quadrado na base de treino: 84.60\n",
      "R_quadrado na base de teste: 78.86\n",
      "CPU times: total: 1.31 s\n",
      "Wall time: 436 ms\n"
     ]
    }
   ],
   "source": [
    "%%time\n",
    "clf_n(5)"
   ]
  },
  {
   "cell_type": "code",
   "execution_count": 8,
   "metadata": {},
   "outputs": [
    {
     "name": "stdout",
     "output_type": "stream",
     "text": [
      "Número de componentes: 10\n",
      "R_quadrado na base de treino: 89.35\n",
      "R_quadrado na base de teste: 82.29\n",
      "CPU times: total: 1.55 s\n",
      "Wall time: 552 ms\n"
     ]
    }
   ],
   "source": [
    "%%time\n",
    "clf_n(10)"
   ]
  },
  {
   "cell_type": "code",
   "execution_count": 9,
   "metadata": {},
   "outputs": [
    {
     "name": "stdout",
     "output_type": "stream",
     "text": [
      "Número de componentes: 50\n",
      "R_quadrado na base de treino: 92.00\n",
      "R_quadrado na base de teste: 82.32\n",
      "CPU times: total: 2.95 s\n",
      "Wall time: 1.41 s\n"
     ]
    }
   ],
   "source": [
    "%%time\n",
    "clf_n(50)"
   ]
  },
  {
   "cell_type": "markdown",
   "metadata": {},
   "source": [
    "## Conclua\n",
    "\n",
    "- O que aconteceu com a acurácia?\n",
    "- O que aconteceu com o tempo de processamento?"
   ]
  },
  {
   "cell_type": "markdown",
   "metadata": {},
   "source": [
    "#### O que aconteceu com a acurácia?\n",
    "- A acurácia apresenta valor crescente a medida que aumentamos a quantidade de componentes, contudo desacelerando o incremente da acurácia com o aumento da quantidade de componentes. "
   ]
  },
  {
   "cell_type": "markdown",
   "metadata": {},
   "source": [
    "#### O que aconteceu com o tempo de processamento?\n",
    "- O tempo de processamento é **menor** para a quantidade de componentes igual a **'2'** e é **maior** para a quantidade de componentes igual a **'50'**. Contudo, ainda é bem inferior aos tempos obtidos no primeiro modelo, obtendo em relação a este um **CPU times** representando **43,32%** e um **Wall time** representando **20,29%**."
   ]
  },
  {
   "cell_type": "code",
   "execution_count": null,
   "metadata": {},
   "outputs": [],
   "source": []
  }
 ],
 "metadata": {
  "kernelspec": {
   "display_name": "Python 3 (ipykernel)",
   "language": "python",
   "name": "python3"
  },
  "language_info": {
   "codemirror_mode": {
    "name": "ipython",
    "version": 3
   },
   "file_extension": ".py",
   "mimetype": "text/x-python",
   "name": "python",
   "nbconvert_exporter": "python",
   "pygments_lexer": "ipython3",
   "version": "3.10.9"
  },
  "toc": {
   "base_numbering": 1,
   "nav_menu": {},
   "number_sections": true,
   "sideBar": true,
   "skip_h1_title": true,
   "title_cell": "Índice",
   "title_sidebar": "Conteúdo",
   "toc_cell": false,
   "toc_position": {},
   "toc_section_display": true,
   "toc_window_display": false
  },
  "varInspector": {
   "cols": {
    "lenName": 16,
    "lenType": 16,
    "lenVar": 40
   },
   "kernels_config": {
    "python": {
     "delete_cmd_postfix": "",
     "delete_cmd_prefix": "del ",
     "library": "var_list.py",
     "varRefreshCmd": "print(var_dic_list())"
    },
    "r": {
     "delete_cmd_postfix": ") ",
     "delete_cmd_prefix": "rm(",
     "library": "var_list.r",
     "varRefreshCmd": "cat(var_dic_list()) "
    }
   },
   "types_to_exclude": [
    "module",
    "function",
    "builtin_function_or_method",
    "instance",
    "_Feature"
   ],
   "window_display": false
  }
 },
 "nbformat": 4,
 "nbformat_minor": 4
}
