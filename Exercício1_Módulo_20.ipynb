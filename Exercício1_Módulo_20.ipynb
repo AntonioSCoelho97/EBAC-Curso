{
 "cells": [
  {
   "cell_type": "markdown",
   "id": "9596e542",
   "metadata": {},
   "source": [
    "# Tarefa I\n",
    "\n",
    "# Fórmula de Bhaskara"
   ]
  },
  {
   "cell_type": "markdown",
   "id": "1076e1ec",
   "metadata": {},
   "source": [
    "A solução para uma função de segundo grau depende das suas raízes (valores de x). Como já vimos, os coeficientes precisam ser números reais e o angular diferente de zero. Sendo assim, temos a seguinte fórmula de Bhaskara:<br><br>\n",
    "\n",
    "<span style=\"font-size: 20pt; font-weight: bold;\">$$x = \\frac{- b \\pm \\sqrt{b^2 - 4.a.c}}{2.a}$$</span><br>\n",
    "\n",
    "<div style=\"text-align: center;\"><i>Fórmula de Bhaskara<i></div>\n",
    "\n",
    "Para melhor compreensão o seu cálculo é dividido em duas partes: discriminante da equação e operações para determinar as raízes.\n",
    "\n",
    "**Discriminante**\n",
    "\n",
    "A figura dentro da raiz na fórmula de Bhaskara é nomeada de discriminate. Seu símbolo é a letra grega delta e apresenta a determinada fórmula:<br><br>\n",
    "\n",
    "<span style=\"font-size: 20pt; font-weight: bold;\">$$\\Delta = b^2 - 4.a.c$$</span><br>\n",
    "\n",
    "<div style=\"text-align: center;\"><i>Fórmula da discriminante<i></div>\n",
    "\n",
    "- Se o delta for maior que zero, a equação terá dos valores reais e distintos.\n",
    "- Se o delta for igual a zero, a equação terá somente um valor real ou dois resultados iguais.\n",
    "- Se o delta for menor que zero, a equação não possuirá valores reais."
   ]
  },
  {
   "cell_type": "code",
   "execution_count": null,
   "id": "97086a22",
   "metadata": {},
   "outputs": [],
   "source": []
  }
 ],
 "metadata": {
  "kernelspec": {
   "display_name": "Python 3 (ipykernel)",
   "language": "python",
   "name": "python3"
  },
  "language_info": {
   "codemirror_mode": {
    "name": "ipython",
    "version": 3
   },
   "file_extension": ".py",
   "mimetype": "text/x-python",
   "name": "python",
   "nbconvert_exporter": "python",
   "pygments_lexer": "ipython3",
   "version": "3.10.9"
  }
 },
 "nbformat": 4,
 "nbformat_minor": 5
}
