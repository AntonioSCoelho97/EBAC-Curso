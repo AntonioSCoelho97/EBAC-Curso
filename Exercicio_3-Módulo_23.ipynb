{
 "cells": [
  {
   "cell_type": "markdown",
   "id": "a1dcde38",
   "metadata": {},
   "source": [
    "# Tarefa 03\n",
    "\n",
    "#### 1. Quais são os hyperparâmetros do RF?\n",
    "#### 2. Pra que serve cada um deles?"
   ]
  },
  {
   "cell_type": "markdown",
   "id": "2bbccb1a",
   "metadata": {},
   "source": [
    "#### 1. Quais são os hyperparâmetros do RF?"
   ]
  },
  {
   "cell_type": "markdown",
   "id": "18b34c1b",
   "metadata": {},
   "source": [
    "1. Out-of-Bag (oob_score);\n",
    "2. max_features;\n",
    "3. min_samples_leaf;\n",
    "4. max_depth; \n",
    "5. n_estimators;\n",
    "6. criterion;\n",
    "7. min_samples_split;\n",
    "8. min_weight_fraction_leaf;\n",
    "9. max_leaf_nodes;\n",
    "10. min_impurity_decrease;\n",
    "11. bootstrap;\n",
    "12. n_jobs;\n",
    "13. random_state;\n",
    "14. verbose;\n",
    "15. warm_start;\n",
    "16. class_weight;\n",
    "17. ccp_alpha;\n",
    "18. max_samples; e\n",
    "19. monotonic_cst."
   ]
  },
  {
   "cell_type": "markdown",
   "id": "5d2f8af4",
   "metadata": {},
   "source": [
    "#### 2. Pra que serve cada um deles?"
   ]
  },
  {
   "cell_type": "markdown",
   "id": "54d69b97",
   "metadata": {},
   "source": [
    "1. Out-of-Bag (oob_score): uma parte da amostra não entra no treino para verificar o desempenho do modelo;\n",
    "2. max_features: quantidade de colunas que farão parte das amostras;\n",
    "3. **min_samples_leaf**: quantidade mínima de uma amostra para que um nó vire folha;\n",
    "4. **max_depth**: profundidade máxima da árvore;\n",
    "5. **n_estimators**: número de árvores que farão parte da floresta;\n",
    "6. **criterion**: para medir a qualidade da divisão de cada nó (\"gini\", \"entropia\" ou \"log_loss\");\n",
    "7. min_samples_split: quantidade necessária para dividir um nó interno;\n",
    "8. min_weight_fraction_leaf: considera o peso atribuído a cada amostra;\n",
    "9. max_leaf_nodes: número máximo de nós em uma árvore;\n",
    "10. min_impurity_decrease: valor mínimo da impureza para formação do nó;\n",
    "11. bootstrap: se amostras de bootstrap são usadas ao construir árvores;\n",
    "12. n_jobs: define o número de trabalhos em paralelo durante o treinamento;\n",
    "13. **random_state**: controla a aleatoriedade;\n",
    "14. verbose: define a quantidade de informações exibidas;\n",
    "15. warm_start: reutiliza a solução da chamada anterior para ajustar e adicionar mais estimadores ao conjunto;\n",
    "16. class_weight: usada em amostras com dados desbalanceados;\n",
    "17. ccp_alpha: usado para a remoção de custo e complexidade mínima;\n",
    "18. max_samples: o número máximo de amostras a serem extraídas aleatoriamente da base de treino;\n",
    "19. monotonic_cst: indica a restrição de monotonicidade a ser imposta em cada recurso.\n",
    "\n",
    "**OBS**: em consultas a exemplos de Random Forest, internet e livros, identifiquei a maior utilização dos hiperparâmetros, na forma não padrão, os que estão destacados em **negrito**."
   ]
  },
  {
   "cell_type": "code",
   "execution_count": null,
   "id": "4948a901",
   "metadata": {},
   "outputs": [],
   "source": []
  }
 ],
 "metadata": {
  "kernelspec": {
   "display_name": "Python 3 (ipykernel)",
   "language": "python",
   "name": "python3"
  },
  "language_info": {
   "codemirror_mode": {
    "name": "ipython",
    "version": 3
   },
   "file_extension": ".py",
   "mimetype": "text/x-python",
   "name": "python",
   "nbconvert_exporter": "python",
   "pygments_lexer": "ipython3",
   "version": "3.10.9"
  }
 },
 "nbformat": 4,
 "nbformat_minor": 5
}
